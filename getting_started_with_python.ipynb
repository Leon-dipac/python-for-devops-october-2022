{
  "nbformat": 4,
  "nbformat_minor": 0,
  "metadata": {
    "colab": {
      "provenance": [],
      "toc_visible": true,
      "authorship_tag": "ABX9TyM95+4u5Hce9vB+/Z4Seq7m",
      "include_colab_link": true
    },
    "kernelspec": {
      "name": "python3",
      "display_name": "Python 3"
    },
    "language_info": {
      "name": "python"
    }
  },
  "cells": [
    {
      "cell_type": "markdown",
      "metadata": {
        "id": "view-in-github",
        "colab_type": "text"
      },
      "source": [
        "<a href=\"https://colab.research.google.com/github/Leon-dipac/python-for-devops-october-2022/blob/main/getting_started_with_python.ipynb\" target=\"_parent\"><img src=\"https://colab.research.google.com/assets/colab-badge.svg\" alt=\"Open In Colab\"/></a>"
      ]
    },
    {
      "cell_type": "markdown",
      "source": [
        "## Introduction to Python"
      ],
      "metadata": {
        "id": "SrEl4UnTysBD"
      }
    },
    {
      "cell_type": "markdown",
      "source": [
        "### Statements in Python"
      ],
      "metadata": {
        "id": "FE96eSKA4XIf"
      }
    },
    {
      "cell_type": "code",
      "source": [
        "print(\"Hello world\")"
      ],
      "metadata": {
        "id": "31TDc43z4aqs",
        "outputId": "dddd8993-b056-4c4f-b97d-4e88a02eb57c",
        "colab": {
          "base_uri": "https://localhost:8080/"
        }
      },
      "execution_count": 12,
      "outputs": [
        {
          "output_type": "stream",
          "name": "stdout",
          "text": [
            "Hello world\n"
          ]
        }
      ]
    },
    {
      "cell_type": "markdown",
      "source": [],
      "metadata": {
        "id": "kfZwghL45gGt"
      }
    },
    {
      "cell_type": "markdown",
      "source": [
        "### Datastructures : Lists and Dictionaries"
      ],
      "metadata": {
        "id": "_AW7WHP95j3m"
      }
    },
    {
      "cell_type": "code",
      "source": [
        "fruit = [\"apple\", \"pear\", \"strawberry\"]\n",
        "type(fruit)"
      ],
      "metadata": {
        "id": "weiaIbv15mFS",
        "outputId": "4148b768-2cdf-48e9-800b-4680d816b4a0",
        "colab": {
          "base_uri": "https://localhost:8080/"
        }
      },
      "execution_count": 13,
      "outputs": [
        {
          "output_type": "execute_result",
          "data": {
            "text/plain": [
              "list"
            ]
          },
          "metadata": {},
          "execution_count": 13
        }
      ]
    },
    {
      "cell_type": "code",
      "source": [
        "fruit[-1]"
      ],
      "metadata": {
        "id": "cRhEnaom53I3",
        "outputId": "e85bbedb-497e-4608-eeb5-ab321563958f",
        "colab": {
          "base_uri": "https://localhost:8080/",
          "height": 35
        }
      },
      "execution_count": 14,
      "outputs": [
        {
          "output_type": "execute_result",
          "data": {
            "text/plain": [
              "'strawberry'"
            ],
            "application/vnd.google.colaboratory.intrinsic+json": {
              "type": "string"
            }
          },
          "metadata": {},
          "execution_count": 14
        }
      ]
    },
    {
      "cell_type": "markdown",
      "source": [
        "## Statements in Python"
      ],
      "metadata": {
        "id": "VKj25vYwzN8H"
      }
    },
    {
      "cell_type": "code",
      "execution_count": 1,
      "metadata": {
        "id": "61SL0NSFxjf9",
        "outputId": "19517e17-f8d9-4af4-b0da-0b1e3f8296fe",
        "colab": {
          "base_uri": "https://localhost:8080/"
        }
      },
      "outputs": [
        {
          "output_type": "stream",
          "name": "stdout",
          "text": [
            "Hello world\n"
          ]
        }
      ],
      "source": [
        "print(\"Hello world\")"
      ]
    },
    {
      "cell_type": "code",
      "source": [
        "name = 'bob'\n",
        "print (f\"hello {name}\")"
      ],
      "metadata": {
        "id": "0AaKSTKjznT7",
        "outputId": "053d0f10-4620-4c8c-a763-7eb853fa5f40",
        "colab": {
          "base_uri": "https://localhost:8080/"
        }
      },
      "execution_count": 3,
      "outputs": [
        {
          "output_type": "stream",
          "name": "stdout",
          "text": [
            "hello bob\n"
          ]
        }
      ]
    },
    {
      "cell_type": "code",
      "source": [
        "### Datastructures : Lists and Dictionaries"
      ],
      "metadata": {
        "id": "Gy_vtOp7z4AW"
      },
      "execution_count": 4,
      "outputs": []
    },
    {
      "cell_type": "code",
      "source": [
        "fruit = [\"apple\", \"pear\", \"strawberry\"]\n",
        "type(fruit)"
      ],
      "metadata": {
        "id": "MAePfJRm0D0_",
        "outputId": "aebf948b-150a-44a5-b27e-be74c94804d7",
        "colab": {
          "base_uri": "https://localhost:8080/"
        }
      },
      "execution_count": 5,
      "outputs": [
        {
          "output_type": "execute_result",
          "data": {
            "text/plain": [
              "list"
            ]
          },
          "metadata": {},
          "execution_count": 5
        }
      ]
    },
    {
      "cell_type": "code",
      "source": [
        "fruit[-1]"
      ],
      "metadata": {
        "id": "Zska_itE0WRe",
        "outputId": "1d6147c0-00d8-4eff-c6a0-a7f4de1e8b00",
        "colab": {
          "base_uri": "https://localhost:8080/",
          "height": 35
        }
      },
      "execution_count": 6,
      "outputs": [
        {
          "output_type": "execute_result",
          "data": {
            "text/plain": [
              "'strawberry'"
            ],
            "application/vnd.google.colaboratory.intrinsic+json": {
              "type": "string"
            }
          },
          "metadata": {},
          "execution_count": 6
        }
      ]
    },
    {
      "cell_type": "code",
      "source": [
        "for my_fruit in fruit :\n",
        "  print(f\"This is my favorite fruit : {my_fruit}\")"
      ],
      "metadata": {
        "id": "A17xu7cX0ae-",
        "outputId": "d1c22e13-8c91-49be-afcb-5ba93dc54a50",
        "colab": {
          "base_uri": "https://localhost:8080/"
        }
      },
      "execution_count": 7,
      "outputs": [
        {
          "output_type": "stream",
          "name": "stdout",
          "text": [
            "This is my favorite fruit : apple\n",
            "This is my favorite fruit : pear\n",
            "This is my favorite fruit : strawberry\n"
          ]
        }
      ]
    },
    {
      "cell_type": "code",
      "source": [
        "## Dictionary :\n",
        "meal = {\"breakfast\":\"black coffee\",\"lunch\":\"salad\",\"dinner\":\"rice and beans\"}\n",
        "meal.keys()"
      ],
      "metadata": {
        "id": "7Jl3zK9d0nnl",
        "outputId": "31b4b668-3bd4-4199-f5d8-47749b550d60",
        "colab": {
          "base_uri": "https://localhost:8080/"
        }
      },
      "execution_count": 9,
      "outputs": [
        {
          "output_type": "execute_result",
          "data": {
            "text/plain": [
              "dict_keys(['breakfast', 'lunch', 'dinner'])"
            ]
          },
          "metadata": {},
          "execution_count": 9
        }
      ]
    },
    {
      "cell_type": "code",
      "source": [
        "meal.values()"
      ],
      "metadata": {
        "id": "iyQhopgW1rwN",
        "outputId": "d53f0113-e376-489d-a923-7949248a0698",
        "colab": {
          "base_uri": "https://localhost:8080/"
        }
      },
      "execution_count": 10,
      "outputs": [
        {
          "output_type": "execute_result",
          "data": {
            "text/plain": [
              "dict_values(['black coffee', 'salad', 'rice and beans'])"
            ]
          },
          "metadata": {},
          "execution_count": 10
        }
      ]
    },
    {
      "cell_type": "code",
      "source": [
        "for meal_name, meal_item in meal.items() :\n",
        "  print(f\"This meal {meal_name} is when I like to consume {meal_item}\")"
      ],
      "metadata": {
        "id": "LUYI6NHF1w6J",
        "outputId": "fdfd1c5f-1eec-492f-a29d-a5d6603ca2c5",
        "colab": {
          "base_uri": "https://localhost:8080/"
        }
      },
      "execution_count": 11,
      "outputs": [
        {
          "output_type": "stream",
          "name": "stdout",
          "text": [
            "This meal breakfast is when I like to consume black coffee\n",
            "This meal lunch is when I like to consume salad\n",
            "This meal dinner is when I like to consume rice and beans\n"
          ]
        }
      ]
    }
  ]
}